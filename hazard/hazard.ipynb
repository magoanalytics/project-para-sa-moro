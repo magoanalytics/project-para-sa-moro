{
 "cells": [
  {
   "cell_type": "code",
   "execution_count": 16,
   "metadata": {},
   "outputs": [],
   "source": [
    "import os\n",
    "import pandas as pd\n",
    "import geopandas as gpd\n",
    "import matplotlib.pyplot as plt\n",
    "from pickle import dump,load"
   ]
  },
  {
   "cell_type": "code",
   "execution_count": 17,
   "metadata": {},
   "outputs": [],
   "source": [
    "# pickle functions\n",
    "def pickle(data, filename):\n",
    "    with open(filename, 'wb') as file:\n",
    "        dump(data, file)\n",
    "def load_pickle(filename):\n",
    "    with open(filename, 'rb') as file:\n",
    "        data = load(file)\n",
    "    return data"
   ]
  },
  {
   "cell_type": "code",
   "execution_count": null,
   "metadata": {},
   "outputs": [],
   "source": [
    "# import barmm barangay data\n",
    "barmm_map = gpd.read_file('raw_data/barmm_barangay.shp')[['Bgy_Code', 'Pro_Name', 'Mun_Name', 'Bgy_Name', 'geometry']]\n",
    "barmm_map['geometry'] = barmm_map['geometry'].to_crs(epsg=4326)"
   ]
  },
  {
   "cell_type": "code",
   "execution_count": 2,
   "metadata": {},
   "outputs": [],
   "source": [
    "# import landslide data\n",
    "landslide_files = ['raw_data/landslide_lanao.shp',\n",
    "             'raw_data/landslide_tawi.shp',\n",
    "             'raw_data/landslide_maguindanao.shp', \n",
    "             'raw_data/landslide_basilan.shp',\n",
    "             'raw_data/landslide_sulu.shp']\n",
    "landslide = pd.concat([gpd.read_file(file) for file in landslide_files]).reset_index(drop=True)[['geometry']]\n",
    "landslide['geometry'] = landslide['geometry'].to_crs(epsg=4326)\n",
    "landslide['centroid'] = landslide['geometry'].apply(lambda x: [polygon.centroid for polygon in x])\n",
    "\n",
    "# import flood data\n",
    "flood = gpd.read_file('raw_data/flood.shp')[['FloodSusc', 'geometry']].to_crs(epsg=4326)\n",
    "\n",
    "# import storm data\n",
    "storm = gpd.read_file('raw_data/storm.shp')[['HAZ', 'geometry']]\n",
    "\n",
    "# import faultline data\n",
    "faultline = gpd.read_file('raw_data/faultline.shp')[['geometry']]"
   ]
  },
  {
   "cell_type": "code",
   "execution_count": 45,
   "metadata": {},
   "outputs": [],
   "source": [
    "# add landslide feature\n",
    "landslide_feature = list()\n",
    "landslide_shp = [polygon for shp in landslide.geometry for polygon in shp]\n",
    "for barangay in barmm_map['geometry']:\n",
    "    landslide_feature.append(sum([1 if shp.intersects(barangay) else 0 \n",
    "                              for shp in landslide_shp]))\n",
    "\n",
    "# pickle result\n",
    "pickle(flood_feature, 'landslide_feature.pkl')"
   ]
  },
  {
   "cell_type": "code",
   "execution_count": 51,
   "metadata": {},
   "outputs": [],
   "source": [
    "# add flood feature\n",
    "flood_feature = list()\n",
    "flood.loc[flood['FloodSusc'] == 'High', 'FloodSusc'] = 2\n",
    "flood.loc[flood['FloodSusc'] != 'High', 'FloodSusc'] = 1\n",
    "flood_intensity = list(flood.FloodSusc)\n",
    "flood_shp = list(storm.geometry)\n",
    "for barangay in barmm_map['geometry']:\n",
    "    flood_feature.append(sum([intensity if shp.intersects(barangay) else 0 \n",
    "                              for intensity, shp in zip(flood_intensity, flood_shp)]))\n",
    "\n",
    "# pickle result\n",
    "pickle(flood_feature, 'flood_feature.pkl')"
   ]
  },
  {
   "cell_type": "code",
   "execution_count": 9,
   "metadata": {},
   "outputs": [],
   "source": [
    "# add storm feature\n",
    "storm_feature = list()\n",
    "storm_intensity = list(storm.HAZ)\n",
    "storm_shp = list(storm.geometry)\n",
    "for barangay in barmm_map['geometry']:\n",
    "    storm_feature.append(sum([intensity if shp.intersects(barangay) else 0 \n",
    "                              for intensity, shp in zip(storm_intensity, storm_shp)]))\n",
    "# pickle result\n",
    "pickle(storm_feature, 'storm_feature.pkl')"
   ]
  },
  {
   "cell_type": "code",
   "execution_count": 23,
   "metadata": {},
   "outputs": [],
   "source": [
    "# add faultline feature\n",
    "faultline_feature = list()\n",
    "for barangay in barmm_map['geometry']:\n",
    "    faultline_feature.append(sum([1 if line.intersects(barangay) else 0 for line in faultline.geometry]))\n",
    "\n",
    "# pickle result\n",
    "pickle(faultline_feature, 'faultline_feature.pkl')"
   ]
  },
  {
   "cell_type": "code",
   "execution_count": 66,
   "metadata": {},
   "outputs": [],
   "source": [
    "# append additional features\n",
    "landslide_feature = load_pickle('landslide_feature.pkl')\n",
    "flood_feature = load_pickle('flood_feature.pkl')\n",
    "storm_feature = load_pickle('storm_feature.pkl')\n",
    "faultline_feature = load_pickle('faultline_feature.pkl')\n",
    "\n",
    "barmm_map['landslide'] = landslide_feature\n",
    "barmm_map['flood'] = flood_feature\n",
    "barmm_map['storm'] = storm_feature\n",
    "barmm_map['faultline'] = faultline_feature\n",
    "\n",
    "barmm_map.to_csv('hazard_complete.csv', index=False)"
   ]
  },
  {
   "cell_type": "markdown",
   "metadata": {},
   "source": [
    "#### "
   ]
  }
 ],
 "metadata": {
  "kernelspec": {
   "display_name": "Python 3.7.4 64-bit ('base': conda)",
   "language": "python",
   "name": "python37464bitbaseconda927226f2404149d1b01d1859623aa2ab"
  },
  "language_info": {
   "codemirror_mode": {
    "name": "ipython",
    "version": 3
   },
   "file_extension": ".py",
   "mimetype": "text/x-python",
   "name": "python",
   "nbconvert_exporter": "python",
   "pygments_lexer": "ipython3",
   "version": "3.7.6"
  }
 },
 "nbformat": 4,
 "nbformat_minor": 4
}
